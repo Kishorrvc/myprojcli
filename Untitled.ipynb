{
 "cells": [
  {
   "cell_type": "code",
   "execution_count": 29,
   "id": "ae45f4a8",
   "metadata": {},
   "outputs": [],
   "source": [
    "from datetime import datetime, timedelta\n",
    "def get_expiry_and_start_time(duration, start_time) -> tuple:\n",
    "\n",
    "    start_date = datetime.strptime(start_time, \"%Y-%m-%dT%H:%M:%S.%f%z\")\n",
    "\n",
    "    expiry_date = start_date + timedelta(seconds=duration)\n",
    "\n",
    "    return(start_date, expiry_date)\n",
    "\n",
    "\n",
    "\n",
    "\n",
    "# expiry_time = get_expiry_and_start_time(94608000, \"2019-10-17T21:04:53.790000+00:00\")\n",
    "\n",
    "# print(expiry_time)\n",
    "\n",
    "# 019-10-17T21:40:41.716000+00:00"
   ]
  },
  {
   "cell_type": "code",
   "execution_count": 30,
   "id": "fd0ff3f6",
   "metadata": {},
   "outputs": [],
   "source": [
    "expiry_time = get_expiry_and_start_time(94608000, \"2019-10-17T21:04:53.790000+00:00\")\n"
   ]
  },
  {
   "cell_type": "code",
   "execution_count": 43,
   "id": "914486b2",
   "metadata": {},
   "outputs": [
    {
     "data": {
      "text/plain": [
       "datetime.timedelta(days=1095)"
      ]
     },
     "execution_count": 43,
     "metadata": {},
     "output_type": "execute_result"
    }
   ],
   "source": [
    "expiry_time[1] - expiry_time[0]"
   ]
  },
  {
   "cell_type": "code",
   "execution_count": 32,
   "id": "ce245b51",
   "metadata": {},
   "outputs": [
    {
     "ename": "NameError",
     "evalue": "name 'expiry_date' is not defined",
     "output_type": "error",
     "traceback": [
      "\u001b[0;31m---------------------------------------------------------------------------\u001b[0m",
      "\u001b[0;31mNameError\u001b[0m                                 Traceback (most recent call last)",
      "Cell \u001b[0;32mIn [32], line 1\u001b[0m\n\u001b[0;32m----> 1\u001b[0m expiry_date\n",
      "\u001b[0;31mNameError\u001b[0m: name 'expiry_date' is not defined"
     ]
    }
   ],
   "source": [
    "expiry_date"
   ]
  },
  {
   "cell_type": "code",
   "execution_count": 44,
   "id": "717794a1",
   "metadata": {},
   "outputs": [
    {
     "data": {
      "text/plain": [
       "datetime.datetime"
      ]
     },
     "execution_count": 44,
     "metadata": {},
     "output_type": "execute_result"
    }
   ],
   "source": [
    "type(expiry_time[1])"
   ]
  },
  {
   "cell_type": "code",
   "execution_count": 46,
   "id": "4be5fa92",
   "metadata": {},
   "outputs": [
    {
     "data": {
      "text/plain": [
       "'2019-10-17 21:04:53'"
      ]
     },
     "execution_count": 46,
     "metadata": {},
     "output_type": "execute_result"
    }
   ],
   "source": [
    "expiry_time[0].strftime(\"%Y-%m-%d %H:%M:%S\")"
   ]
  },
  {
   "cell_type": "code",
   "execution_count": 47,
   "id": "10a19b2c",
   "metadata": {},
   "outputs": [
    {
     "data": {
      "text/plain": [
       "'2022-10-16 21:04:53'"
      ]
     },
     "execution_count": 47,
     "metadata": {},
     "output_type": "execute_result"
    }
   ],
   "source": [
    "expiry_time[1].strftime(\"%Y-%m-%d %H:%M:%S\")"
   ]
  },
  {
   "cell_type": "code",
   "execution_count": null,
   "id": "8f22c489",
   "metadata": {},
   "outputs": [],
   "source": []
  }
 ],
 "metadata": {
  "kernelspec": {
   "display_name": "Python 3 (ipykernel)",
   "language": "python",
   "name": "python3"
  },
  "language_info": {
   "codemirror_mode": {
    "name": "ipython",
    "version": 3
   },
   "file_extension": ".py",
   "mimetype": "text/x-python",
   "name": "python",
   "nbconvert_exporter": "python",
   "pygments_lexer": "ipython3",
   "version": "3.10.8"
  }
 },
 "nbformat": 4,
 "nbformat_minor": 5
}
